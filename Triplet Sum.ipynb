{
 "cells": [
  {
   "cell_type": "code",
   "execution_count": 49,
   "id": "44a0a008-638a-4bac-833f-847403067dfd",
   "metadata": {},
   "outputs": [
    {
     "name": "stdin",
     "output_type": "stream",
     "text": [
      " 1\n",
      " 7\n",
      " 1 2 3 4 5 6 7\n",
      " 12\n"
     ]
    },
    {
     "name": "stdout",
     "output_type": "stream",
     "text": [
      "[(1, 4, 7), (1, 5, 6), (2, 3, 7), (2, 4, 6), (3, 4, 5)]\n"
     ]
    }
   ],
   "source": [
    "def tripletSum(arr, n, num):\n",
    "    sum_time=0\n",
    "    result = []\n",
    "    for i in range(0,n):\n",
    "        for j in range(i+1,n):\n",
    "            for k in range(j+1,n):\n",
    "                if arr[i] + arr[j]+ arr[k]==num:\n",
    "                    result.append((arr[i], arr[j],arr[k]))\n",
    "                    sum_time+=1\n",
    "                else:\n",
    "                    continue\n",
    "    return result\n",
    "    \n",
    "t = int(input())\n",
    "for i in range(t):\n",
    "    n = int(input())\n",
    "    if n != 0:\n",
    "        li = [int(x) for x in input().split()]\n",
    "        x = int(input())\n",
    "        print(tripletSum(li,n,x))\n",
    "    else:\n",
    "        print(0)"
   ]
  },
  {
   "cell_type": "code",
   "execution_count": 55,
   "id": "b9e625ed-10c2-4888-8691-1b849037a419",
   "metadata": {},
   "outputs": [
    {
     "name": "stdout",
     "output_type": "stream",
     "text": [
      "5\n"
     ]
    }
   ],
   "source": [
    "# optimize code \n",
    "#\n",
    "# Second Method \n",
    "#\n",
    "def tripletSum(arr, n, num):\n",
    "    count = 0  \n",
    "\n",
    "    # Fix the first element\n",
    "    for i in range(n - 1):\n",
    "        freq_map = {}  # Dictionary to store seen elements\n",
    "\n",
    "        # Find pairs in the remaining array (i+1 to n)\n",
    "        for j in range(i + 1, n):\n",
    "            complement = num - (arr[i] + arr[j])\n",
    "\n",
    "            # If complement exists in map, add its count to result\n",
    "            if complement in freq_map:\n",
    "                count += freq_map[complement]\n",
    "\n",
    "            # Update frequency of current element\n",
    "            freq_map[arr[j]] = freq_map.get(arr[j], 0) + 1\n",
    "\n",
    "    return count\n",
    "\n",
    "# Example usage\n",
    "arr = [1, 2, 3, 4, 5, 6, 7 ]\n",
    "num = 12\n",
    "n = len(arr)\n",
    "print(tripletSum(arr, n, num))  # Output: 5\n"
   ]
  },
  {
   "cell_type": "code",
   "execution_count": 87,
   "id": "ee809c48-a4b8-4edc-af78-7982ae599c56",
   "metadata": {},
   "outputs": [
    {
     "data": {
      "text/plain": [
       "5"
      ]
     },
     "execution_count": 87,
     "metadata": {},
     "output_type": "execute_result"
    }
   ],
   "source": [
    "def tripletSum(arr, n, num):\n",
    "    count = 0  \n",
    "\n",
    "    # Fix the first element\n",
    "    for i in range(n - 1):\n",
    "        freq_map = {}  # Dictionary to store seen elements\n",
    "\n",
    "        for j in range(i+1,n):\n",
    "            complement = num -(arr[i] + arr[j])\n",
    "\n",
    "            if complement in freq_map:\n",
    "                count += freq_map[complement] \n",
    "\n",
    "            freq_map[arr[j]] = freq_map.get(arr[j], 0) + 1\n",
    "\n",
    "    return count\n",
    "\n",
    "# Example usage\n",
    "arr = [1, 2, 3, 4, 5, 6, 7 ]\n",
    "num = 12\n",
    "n = len(arr)\n",
    "tripletSum(arr, n, num)  # Output: 5"
   ]
  },
  {
   "cell_type": "code",
   "execution_count": 67,
   "id": "394361e3-33e4-4afa-8ff4-2a6a3fc30bbb",
   "metadata": {},
   "outputs": [
    {
     "name": "stdout",
     "output_type": "stream",
     "text": [
      "0\n",
      "1\n",
      "2\n",
      "3\n",
      "4\n",
      "5\n"
     ]
    }
   ],
   "source": [
    "arr = [1, 2, 3, 4, 5, 6, 7 ]\n",
    "num = 12\n",
    "for i in range(n - 1):\n",
    "    print(i)"
   ]
  },
  {
   "cell_type": "code",
   "execution_count": 77,
   "id": "188a2c96-6aa0-4de3-83c0-2632f776392d",
   "metadata": {},
   "outputs": [
    {
     "name": "stdout",
     "output_type": "stream",
     "text": [
      "True\n"
     ]
    }
   ],
   "source": [
    "# 'in' method to check value in array(list)\n",
    "\n",
    "fruits = [\"apple\", \"banana\", \"cherry\"]\n",
    "\n",
    "if \"banana\" in fruits:\n",
    "    print(True)\n",
    "else:\n",
    "    print(False)"
   ]
  }
 ],
 "metadata": {
  "kernelspec": {
   "display_name": "Python 3 (ipykernel)",
   "language": "python",
   "name": "python3"
  },
  "language_info": {
   "codemirror_mode": {
    "name": "ipython",
    "version": 3
   },
   "file_extension": ".py",
   "mimetype": "text/x-python",
   "name": "python",
   "nbconvert_exporter": "python",
   "pygments_lexer": "ipython3",
   "version": "3.12.7"
  }
 },
 "nbformat": 4,
 "nbformat_minor": 5
}
