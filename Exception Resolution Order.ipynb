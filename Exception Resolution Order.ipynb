{
 "cells": [
  {
   "cell_type": "code",
   "execution_count": null,
   "id": "f8eb37da-3b3d-47c1-9044-221a0c8b9a10",
   "metadata": {},
   "outputs": [],
   "source": [
    "## syntax ##\n",
    "'''\n",
    "try:\n",
    "    client_obj.get_url(url)\n",
    "except (URLError, ValueError, SocketTimeout):\n",
    "    client_obj.remove_url(url)\n",
    "'''\n"
   ]
  },
  {
   "cell_type": "code",
   "execution_count": null,
   "id": "dbe65869-321a-4209-9679-24cca71b799e",
   "metadata": {},
   "outputs": [],
   "source": [
    "'''\n",
    "try:\n",
    "    client_obj.get_url(url)\n",
    "except (URLError, ValueError):\n",
    "    client_obj.remove_url(url)\n",
    "except SocketTimeout:\n",
    "    client_obj.handle_url_timeout(url)"
   ]
  },
  {
   "cell_type": "code",
   "execution_count": null,
   "id": "4dd85dbe-c771-46d7-ba5c-0bb0067898e1",
   "metadata": {},
   "outputs": [],
   "source": [
    "try:\n",
    "    f = open(filename)\n",
    "except (FileNotFountError,PermissionError):\n",
    "    ..."
   ]
  },
  {
   "cell_type": "code",
   "execution_count": null,
   "id": "c31dc97e-d96d-4f68-86c0-997513776e14",
   "metadata": {},
   "outputs": [],
   "source": [
    "try:\n",
    "    f = open(filename)\n",
    "except OSError:  # OsError subclass of FileNotFoundError,PermissionError \n",
    "    ..."
   ]
  },
  {
   "cell_type": "code",
   "execution_count": 13,
   "id": "84c42df4-9d93-4ed9-97c3-f6a5aacc90b1",
   "metadata": {},
   "outputs": [
    {
     "ename": "NameError",
     "evalue": "name 'filename' is not defined",
     "output_type": "error",
     "traceback": [
      "\u001b[1;31m---------------------------------------------------------------------------\u001b[0m",
      "\u001b[1;31mNameError\u001b[0m                                 Traceback (most recent call last)",
      "Cell \u001b[1;32mIn[13], line 2\u001b[0m\n\u001b[0;32m      1\u001b[0m \u001b[38;5;28;01mtry\u001b[39;00m:\n\u001b[1;32m----> 2\u001b[0m     f \u001b[38;5;241m=\u001b[39m \u001b[38;5;28mopen\u001b[39m(filename)\n\u001b[0;32m      3\u001b[0m \u001b[38;5;28;01mexcept\u001b[39;00m \u001b[38;5;167;01mOSError\u001b[39;00m \u001b[38;5;28;01mas\u001b[39;00m e:\n\u001b[0;32m      4\u001b[0m     \u001b[38;5;28;01mif\u001b[39;00m e\u001b[38;5;241m.\u001b[39merrno \u001b[38;5;241m==\u001b[39m errno\u001b[38;5;241m.\u001b[39mENOENT:\n",
      "\u001b[1;31mNameError\u001b[0m: name 'filename' is not defined"
     ]
    }
   ],
   "source": [
    "try:\n",
    "    f = open(filename)\n",
    "except OSError as e:\n",
    "    if e.errno == errno.ENOENT:\n",
    "        logger.error(\"File not found\")\n",
    "    elif e.errno == errno.EACCES:\n",
    "        logger.error(\"Permission Denied\")\n",
    "    else:\n",
    "        logger.error(\"Unexpected error: %d\", e.errno)"
   ]
  },
  {
   "cell_type": "code",
   "execution_count": 15,
   "id": "7b4612e3-3e60-4d76-b782-e40c10a826aa",
   "metadata": {},
   "outputs": [
    {
     "ename": "NameError",
     "evalue": "name 'filename' is not defined",
     "output_type": "error",
     "traceback": [
      "\u001b[1;31m---------------------------------------------------------------------------\u001b[0m",
      "\u001b[1;31mNameError\u001b[0m                                 Traceback (most recent call last)",
      "Cell \u001b[1;32mIn[15], line 2\u001b[0m\n\u001b[0;32m      1\u001b[0m \u001b[38;5;28;01mtry\u001b[39;00m:\n\u001b[1;32m----> 2\u001b[0m     f \u001b[38;5;241m=\u001b[39m \u001b[38;5;28mopen\u001b[39m(filename)\n\u001b[0;32m      3\u001b[0m \u001b[38;5;28;01mexcept\u001b[39;00m \u001b[38;5;167;01mOSError\u001b[39;00m :\n\u001b[0;32m      4\u001b[0m     \u001b[38;5;28mprint\u001b[39m(\u001b[38;5;124m\"\u001b[39m\u001b[38;5;124mit failed\u001b[39m\u001b[38;5;124m\"\u001b[39m)\n",
      "\u001b[1;31mNameError\u001b[0m: name 'filename' is not defined"
     ]
    }
   ],
   "source": [
    "try:\n",
    "    f = open(filename)\n",
    "except OSError : # more generic to   \n",
    "    print(\"it failed\")\n",
    "except FileNotFoundError: # more specific\n",
    "    print(\"file not found\")"
   ]
  }
 ],
 "metadata": {
  "kernelspec": {
   "display_name": "Python 3 (ipykernel)",
   "language": "python",
   "name": "python3"
  },
  "language_info": {
   "codemirror_mode": {
    "name": "ipython",
    "version": 3
   },
   "file_extension": ".py",
   "mimetype": "text/x-python",
   "name": "python",
   "nbconvert_exporter": "python",
   "pygments_lexer": "ipython3",
   "version": "3.12.7"
  }
 },
 "nbformat": 4,
 "nbformat_minor": 5
}
