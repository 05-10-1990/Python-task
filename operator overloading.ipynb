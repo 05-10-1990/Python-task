{
 "cells": [
  {
   "cell_type": "code",
   "execution_count": 5,
   "id": "22d8b5f2-172a-49d7-a825-6994ca585909",
   "metadata": {},
   "outputs": [
    {
     "name": "stdout",
     "output_type": "stream",
     "text": [
      "5\n",
      "[1, 2, 3, 4, 5, 6]\n",
      "codingninjas\n",
      "[[1, 2, 3], ['a', 'b', 'c'], [10, 20, 30], ['x', 'y', 'z']]\n",
      "6\n",
      "[1, 2, 3, 1, 2, 3, 1, 2, 3]\n"
     ]
    }
   ],
   "source": [
    "print(2+3)\n",
    "print([1,2,3]+[4,5,6])\n",
    "print(\"coding\"+\"ninjas\")\n",
    "print([[1,2,3],['a','b','c']] + [[10,20,30],['x','y','z']])\n",
    "print(2*3)\n",
    "print([1,2,3]*3)"
   ]
  },
  {
   "cell_type": "code",
   "execution_count": 7,
   "id": "d10679d1-79d1-4b29-a28e-e87a3f5a257f",
   "metadata": {},
   "outputs": [
    {
     "ename": "SyntaxError",
     "evalue": "unterminated string literal (detected at line 1) (706758332.py, line 1)",
     "output_type": "error",
     "traceback": [
      "\u001b[1;36m  Cell \u001b[1;32mIn[7], line 1\u001b[1;36m\u001b[0m\n\u001b[1;33m    print(\"coding\"*\"ninjas')\u001b[0m\n\u001b[1;37m                   ^\u001b[0m\n\u001b[1;31mSyntaxError\u001b[0m\u001b[1;31m:\u001b[0m unterminated string literal (detected at line 1)\n"
     ]
    }
   ],
   "source": [
    "print(\"coding\"*\"ninjas')"
   ]
  },
  {
   "cell_type": "code",
   "execution_count": 9,
   "id": "708b6115-57d0-466b-a543-a87f8b3b496d",
   "metadata": {},
   "outputs": [
    {
     "ename": "TypeError",
     "evalue": "unsupported operand type(s) for +: 'Number' and 'Number'",
     "output_type": "error",
     "traceback": [
      "\u001b[1;31m---------------------------------------------------------------------------\u001b[0m",
      "\u001b[1;31mTypeError\u001b[0m                                 Traceback (most recent call last)",
      "Cell \u001b[1;32mIn[9], line 8\u001b[0m\n\u001b[0;32m      5\u001b[0m a \u001b[38;5;241m=\u001b[39m Number(\u001b[38;5;241m3\u001b[39m)\n\u001b[0;32m      6\u001b[0m b \u001b[38;5;241m=\u001b[39m Number(\u001b[38;5;241m4\u001b[39m)\n\u001b[1;32m----> 8\u001b[0m \u001b[38;5;28mprint\u001b[39m(a\u001b[38;5;241m+\u001b[39mb)\n",
      "\u001b[1;31mTypeError\u001b[0m: unsupported operand type(s) for +: 'Number' and 'Number'"
     ]
    }
   ],
   "source": [
    "class Number:\n",
    "    def __init__(self,number):\n",
    "        self.a = number\n",
    "\n",
    "a = Number(3)\n",
    "b = Number(4)\n",
    "\n",
    "print(a+b)"
   ]
  },
  {
   "cell_type": "code",
   "execution_count": 13,
   "id": "7f6be389-7a3c-4bef-bbe1-8a56724735c6",
   "metadata": {},
   "outputs": [
    {
     "name": "stdout",
     "output_type": "stream",
     "text": [
      "8\n"
     ]
    }
   ],
   "source": [
    "class Number:\n",
    "    def __init__(self,number):\n",
    "        self.a = number\n",
    "    \n",
    "    def __add__(self,other):\n",
    "        return self.a + other.a\n",
    "a = Number(3)\n",
    "b = Number(5)\n",
    "print(a + b)"
   ]
  },
  {
   "cell_type": "code",
   "execution_count": 23,
   "id": "7a589e84-df2b-4bc3-9d66-8dd5f501e288",
   "metadata": {},
   "outputs": [
    {
     "name": "stdout",
     "output_type": "stream",
     "text": [
      "8\n",
      "15\n"
     ]
    }
   ],
   "source": [
    "class Number:\n",
    "    def __init__(self,number):\n",
    "        self.a = number\n",
    "\n",
    "    def __add__(self,other):\n",
    "        return self.a + other.a\n",
    "\n",
    "    def __mul__(self,other):\n",
    "        return self.a*other.a\n",
    "\n",
    "\n",
    "c = Number(3)\n",
    "d = Number(5)\n",
    "\n",
    "print(c + d)\n",
    "print(c * d)"
   ]
  },
  {
   "cell_type": "code",
   "execution_count": null,
   "id": "dffa95ca-c68b-4b51-88ee-0737c91fd5e5",
   "metadata": {},
   "outputs": [],
   "source": [
    " ######  Megical Operator #######\n",
    "\n",
    "# - = __neg__(self)\n",
    "\n",
    "# + = __pos__(self)\n",
    "\n",
    "# ~ = __inver__(self)"
   ]
  },
  {
   "cell_type": "code",
   "execution_count": 25,
   "id": "9ee672d6-7946-49fb-a318-d65d447b98e2",
   "metadata": {},
   "outputs": [],
   "source": [
    "class Square:\n",
    "    def __init__(self,side):\n",
    "        self.side = side\n",
    "\n",
    "    def DrowSquare(self):\n",
    "        print(\"Drawing a Square of side\",self.side,\", and area \", (self.side*self.side) )\n",
    "    "
   ]
  },
  {
   "cell_type": "code",
   "execution_count": 27,
   "id": "6bc7e78e-a8ce-425c-8367-c2691fe83a33",
   "metadata": {},
   "outputs": [
    {
     "name": "stdout",
     "output_type": "stream",
     "text": [
      "Drawing a Square of side 100 , and area  10000\n"
     ]
    }
   ],
   "source": [
    "square = Square(100)\n",
    "square.DrowSquare()"
   ]
  },
  {
   "cell_type": "code",
   "execution_count": 33,
   "id": "8f71688a-f443-4e50-89d1-66fd8c1a67f1",
   "metadata": {},
   "outputs": [
    {
     "name": "stdout",
     "output_type": "stream",
     "text": [
      "Drawing a Square of side 200 , and area  40000\n"
     ]
    }
   ],
   "source": [
    "square1 = Square(200)\n",
    "square1.DrowSquare()"
   ]
  },
  {
   "cell_type": "code",
   "execution_count": 35,
   "id": "e73993c9-1144-4ac8-aec2-d7fd6ce7ada6",
   "metadata": {},
   "outputs": [
    {
     "ename": "TypeError",
     "evalue": "unsupported operand type(s) for +: 'Square' and 'Square'",
     "output_type": "error",
     "traceback": [
      "\u001b[1;31m---------------------------------------------------------------------------\u001b[0m",
      "\u001b[1;31mTypeError\u001b[0m                                 Traceback (most recent call last)",
      "Cell \u001b[1;32mIn[35], line 1\u001b[0m\n\u001b[1;32m----> 1\u001b[0m square \u001b[38;5;241m+\u001b[39m square1\n",
      "\u001b[1;31mTypeError\u001b[0m: unsupported operand type(s) for +: 'Square' and 'Square'"
     ]
    }
   ],
   "source": [
    "square + square1"
   ]
  },
  {
   "cell_type": "code",
   "execution_count": 55,
   "id": "7541cda4-9c7e-40c7-bcdd-f030629cef84",
   "metadata": {},
   "outputs": [],
   "source": [
    "class Square:\n",
    "    def __init__(self,side):\n",
    "        self.side = side\n",
    "\n",
    "    def __add__(self,Othersquare):\n",
    "        return Square(self.side + Othersquare.side)\n",
    "        \n",
    "    def DrowSquare(self):\n",
    "        print(\"Drawing a Square of side\",self.side,\", and area \", (self.side*self.side) )\n",
    "\n"
   ]
  },
  {
   "cell_type": "code",
   "execution_count": 67,
   "id": "52f1e82e-d800-4bbc-b83c-889b700576bb",
   "metadata": {},
   "outputs": [
    {
     "name": "stdout",
     "output_type": "stream",
     "text": [
      "Drawing a Square of side 100 , and area  10000\n",
      "Drawing a Square of side 300 , and area  90000\n",
      "Drawing a Square of side 400 , and area  160000\n"
     ]
    }
   ],
   "source": [
    "square3 = Square(100)\n",
    "square3.DrowSquare()\n",
    "\n",
    "square4 = Square(300)\n",
    "square4.DrowSquare()\n",
    "\n",
    "square5 = square3 + square4\n",
    "square5.DrowSquare()"
   ]
  }
 ],
 "metadata": {
  "kernelspec": {
   "display_name": "Python 3 (ipykernel)",
   "language": "python",
   "name": "python3"
  },
  "language_info": {
   "codemirror_mode": {
    "name": "ipython",
    "version": 3
   },
   "file_extension": ".py",
   "mimetype": "text/x-python",
   "name": "python",
   "nbconvert_exporter": "python",
   "pygments_lexer": "ipython3",
   "version": "3.12.7"
  }
 },
 "nbformat": 4,
 "nbformat_minor": 5
}
