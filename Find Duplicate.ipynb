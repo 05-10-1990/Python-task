{
 "cells": [
  {
   "cell_type": "code",
   "execution_count": 29,
   "id": "c59a140b-a5b9-4356-8719-49c10c041716",
   "metadata": {},
   "outputs": [
    {
     "name": "stdin",
     "output_type": "stream",
     "text": [
      " 1\n",
      " 1 2 3 4 5 5 6 6\n"
     ]
    },
    {
     "name": "stdout",
     "output_type": "stream",
     "text": [
      "<class 'list'>\n"
     ]
    }
   ],
   "source": [
    "n = int(input())  # Read an integer (not actually used in the list)\n",
    "input_list = list(int(i) for i in input().strip().split())  # Convert input numbers into a list of integers\n",
    "print(type(input_list))"
   ]
  },
  {
   "cell_type": "code",
   "execution_count": 96,
   "id": "e4d2046e-2e5c-46cd-b6a2-d77e5fe69066",
   "metadata": {},
   "outputs": [
    {
     "name": "stdin",
     "output_type": "stream",
     "text": [
      " 1\n",
      " 0 3 1 5 4 3 2\n"
     ]
    },
    {
     "name": "stdout",
     "output_type": "stream",
     "text": [
      "3\n"
     ]
    }
   ],
   "source": [
    "def findDuplicate(arr,n):\n",
    "    # Please add your code here\n",
    "    # Please add your code here\n",
    "    l=len(arr)\n",
    "    s=0\n",
    "    for i in range(0,l-1):\n",
    "        s ^=i\n",
    "        s ^=arr[i]\n",
    "    print( s^arr[l-1]\n",
    "    \n",
    "t = int(input())\n",
    "for i in range(t):\n",
    "    arr = list(int(i) for i in input().strip().split())  # Convert input numbers into a list of integers\n",
    "    n = len(arr)\n",
    "    findDuplicate(arr, n)\n"
   ]
  },
  {
   "cell_type": "code",
   "execution_count": null,
   "id": "f404b130-7d70-499c-bb03-4413fa1edc14",
   "metadata": {},
   "outputs": [],
   "source": [
    "# Second Method Use\n",
    "def findDuplicate(arr,n):\n",
    "    i = 0 \n",
    "    duplicate = arr[i]\n",
    "    while i < n:\n",
    "        print(arr[i])\n",
    "        i = i + 1\n",
    "\n",
    "t = int(input())\n",
    "for i in range(t):\n",
    "    arr = list(int(i) for i in input().strip().split())  # Convert input numbers into a list of integers\n",
    "    n = len(arr)\n",
    "    findDuplicate(arr, n)\n"
   ]
  },
  {
   "cell_type": "code",
   "execution_count": 17,
   "id": "2538198e-e3c1-4f06-8b44-4100ac6b398d",
   "metadata": {},
   "outputs": [
    {
     "name": "stdout",
     "output_type": "stream",
     "text": [
      "[10, 20, 40, 50]\n"
     ]
    }
   ],
   "source": [
    "# remove method\n",
    "a = [10, 20, 30, 40, 50]\n",
    "a.remove(30)\n",
    "print(a)"
   ]
  },
  {
   "cell_type": "code",
   "execution_count": 19,
   "id": "3b8f38a7-8faf-4c6c-93db-ca28bac35f7a",
   "metadata": {},
   "outputs": [
    {
     "name": "stdout",
     "output_type": "stream",
     "text": [
      "[10, 20, 40, 50]\n"
     ]
    }
   ],
   "source": [
    "# remove method\n",
    "a = [10, 20, 30, 40, 50]\n",
    "a.remove(30)\n",
    "print(a)"
   ]
  },
  {
   "cell_type": "code",
   "execution_count": 21,
   "id": "ff86e021-2582-44df-b462-8ae3336e0fe0",
   "metadata": {},
   "outputs": [
    {
     "name": "stdout",
     "output_type": "stream",
     "text": [
      "[10, 30, 40, 50]\n",
      "Removed Item: 20\n"
     ]
    }
   ],
   "source": [
    "# POP method\n",
    "a = [10, 20, 30, 40, 50]\n",
    "\n",
    "# Remove element at index 1 and return its value in val\n",
    "val = a.pop(1)\n",
    "print(a)\n",
    "print(\"Removed Item:\", val)"
   ]
  },
  {
   "cell_type": "code",
   "execution_count": 23,
   "id": "bb28521b-bedb-42d0-8d4a-595b095150f1",
   "metadata": {},
   "outputs": [
    {
     "name": "stdout",
     "output_type": "stream",
     "text": [
      "[10, 20, 30, 40]\n",
      "Removed Item: 50\n"
     ]
    }
   ],
   "source": [
    "# pop method\n",
    "# POP method\n",
    "a = [10, 20, 30, 40, 50]\n",
    "\n",
    "# Remove element at index 1 and return its value in val\n",
    "val = a.pop()\n",
    "print(a)\n",
    "print(\"Removed Item:\", val)"
   ]
  },
  {
   "cell_type": "code",
   "execution_count": 25,
   "id": "9efc8fc1-023e-4490-a857-05fcd561ca45",
   "metadata": {},
   "outputs": [
    {
     "name": "stdout",
     "output_type": "stream",
     "text": [
      "[10, 20, 40, 50]\n"
     ]
    }
   ],
   "source": [
    "# del method\n",
    "a = [10, 20, 30, 40, 50]\n",
    "\n",
    "# Removes element at index 2 (which is 30).\n",
    "del a[2]\n",
    "print(a)"
   ]
  },
  {
   "cell_type": "code",
   "execution_count": 31,
   "id": "b90d0b2d-593c-40ec-9ae5-7914372ccbfd",
   "metadata": {},
   "outputs": [
    {
     "name": "stdout",
     "output_type": "stream",
     "text": [
      "[20, 30, 40, 50]\n"
     ]
    }
   ],
   "source": [
    "# del method\n",
    "a = [10, 20, 30, 40, 50]\n",
    "\n",
    "# Removes element at index 2 (which is 30).\n",
    "del a[0]\n",
    "print(a)"
   ]
  },
  {
   "cell_type": "code",
   "execution_count": 33,
   "id": "e2f4dd38-bdf7-4b36-946f-99da953792d0",
   "metadata": {},
   "outputs": [
    {
     "name": "stdout",
     "output_type": "stream",
     "text": [
      "[]\n"
     ]
    }
   ],
   "source": [
    "a = [10, 20, 30, 40]\n",
    "\n",
    "# Empty a list entirely\n",
    "a.clear()\n",
    "print(a)"
   ]
  }
 ],
 "metadata": {
  "kernelspec": {
   "display_name": "Python 3 (ipykernel)",
   "language": "python",
   "name": "python3"
  },
  "language_info": {
   "codemirror_mode": {
    "name": "ipython",
    "version": 3
   },
   "file_extension": ".py",
   "mimetype": "text/x-python",
   "name": "python",
   "nbconvert_exporter": "python",
   "pygments_lexer": "ipython3",
   "version": "3.12.7"
  }
 },
 "nbformat": 4,
 "nbformat_minor": 5
}
