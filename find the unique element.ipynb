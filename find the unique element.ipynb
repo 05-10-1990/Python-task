{
 "cells": [
  {
   "cell_type": "code",
   "execution_count": 120,
   "id": "87da408d-1e7f-469d-96a9-7d1feada470a",
   "metadata": {},
   "outputs": [
    {
     "name": "stdin",
     "output_type": "stream",
     "text": [
      " 1\n",
      " 1 3 5 6 6 3 1\n"
     ]
    },
    {
     "name": "stdout",
     "output_type": "stream",
     "text": [
      "5\n"
     ]
    }
   ],
   "source": [
    "## Find The Unique Element\n",
    "# First Method\n",
    "def findUnique(arr):\n",
    "    result=0\n",
    "    for num in arr:\n",
    "        result ^=num\n",
    "    return result\n",
    "    \n",
    "t = int(input())\n",
    "for i in range(t):\n",
    "    arr=list(int(i) for i in input().strip().split(' '))\n",
    "    print(findUnique(arr))"
   ]
  },
  {
   "cell_type": "code",
   "execution_count": 104,
   "id": "1144ad9d-f0d2-482a-b8db-1b822bfae1f4",
   "metadata": {},
   "outputs": [
    {
     "name": "stdout",
     "output_type": "stream",
     "text": [
      "10 30 40 50 "
     ]
    }
   ],
   "source": [
    "# # Second Method \n",
    "def findUnique(arr, n) :\n",
    "    # write your code here \n",
    "    # Try to submit your code in O(n) Time complexity.\n",
    "\n",
    "    for i in range (0,n):\n",
    "        j = 0\n",
    "        while j < n:\n",
    "            if i != j and arr[i] == arr[j]:\n",
    "                break\n",
    "            j = j + 1\n",
    "        if j == n:\n",
    "            print(arr[i],end=\" \")\n",
    "\n",
    "# Example usage\n",
    "arr = [10, 20, 20, 30, 40, 50]\n",
    "n = len(arr)\n",
    "findUnique(arr, n)"
   ]
  },
  {
   "cell_type": "code",
   "execution_count": 106,
   "id": "e2763992-fa89-4b7f-ac4e-dd0795a95b90",
   "metadata": {},
   "outputs": [
    {
     "name": "stdout",
     "output_type": "stream",
     "text": [
      "10 30 50 60 37 "
     ]
    }
   ],
   "source": [
    "def removeDuplicateElement(arr, n) :\n",
    "    # write your code here \n",
    "    # Try to submit your code in O(n) Time complexity.\n",
    "\n",
    "    for i in range (0,n):\n",
    "        j = 0\n",
    "        while j < n:\n",
    "            if i != j and arr[i] == arr[j]:\n",
    "                break\n",
    "            j = j + 1\n",
    "        if j == n:\n",
    "            print(arr[i], end=\" \")\n",
    "\n",
    "# Example usage\n",
    "arr = [10, 20, 20, 30, 40, 50, 40, 60, 70, 70, 37]\n",
    "n = len(arr)\n",
    "removeDuplicateElement(arr, n)"
   ]
  },
  {
   "cell_type": "code",
   "execution_count": 1,
   "id": "4ea83297-bf5e-4f9e-8250-dcec6dd7ffac",
   "metadata": {},
   "outputs": [
    {
     "name": "stdin",
     "output_type": "stream",
     "text": [
      " 10 20 20\n"
     ]
    },
    {
     "name": "stdout",
     "output_type": "stream",
     "text": [
      "[10, 20, 20]\n"
     ]
    }
   ],
   "source": [
    "arr = [int(x) for x in input().split()]\n",
    "print(arr)"
   ]
  },
  {
   "cell_type": "code",
   "execution_count": 41,
   "id": "f3e926f8-20cc-4849-a3ee-455de67c69af",
   "metadata": {},
   "outputs": [
    {
     "name": "stdin",
     "output_type": "stream",
     "text": [
      " 10 20 20\n"
     ]
    },
    {
     "name": "stdout",
     "output_type": "stream",
     "text": [
      "[10, 20, 20]\n"
     ]
    }
   ],
   "source": [
    "arr = [int(x) for x in input().split()]\n",
    "print(arr)"
   ]
  },
  {
   "cell_type": "code",
   "execution_count": 62,
   "id": "fe4064ed-df89-474a-bba5-474bf40e9f5e",
   "metadata": {},
   "outputs": [
    {
     "name": "stdout",
     "output_type": "stream",
     "text": [
      "6\n"
     ]
    }
   ],
   "source": [
    "a = 5  # 5 in binary:  0101\n",
    "b = 3  # 3 in binary:  0011\n",
    "\n",
    "a ^= b  # a = a ^ b\n",
    "print(a)  # Output: 6\n"
   ]
  },
  {
   "cell_type": "code",
   "execution_count": 98,
   "id": "381e022f-2aeb-492c-9d26-0015ff4c54a8",
   "metadata": {},
   "outputs": [
    {
     "name": "stdout",
     "output_type": "stream",
     "text": [
      "unique element is: 10 unique element is: 23 "
     ]
    }
   ],
   "source": [
    "def findUnique(arr, n) :\n",
    "    for i in range(n):\n",
    "        j = 0\n",
    "        is_unique = True\n",
    "        while j < n:\n",
    "            if i != j and arr[i] == arr[j]:\n",
    "                is_unique = False\n",
    "                break\n",
    "            j = j + 1 \n",
    "        if is_unique:\n",
    "            print('unique element is:', arr[i], end=\" \")\n",
    "            \n",
    "#arr = [2,3,1,6,3,6,2]\n",
    "arr = [1,3,1,3,6,6,7,10,7,23,34,34]\n",
    "n = len(arr)\n",
    "findUnique(arr, n)"
   ]
  },
  {
   "cell_type": "code",
   "execution_count": 102,
   "id": "b9968905-c61d-4338-99bc-6fdbed685dec",
   "metadata": {},
   "outputs": [
    {
     "name": "stdout",
     "output_type": "stream",
     "text": [
      "10 30 40 50 "
     ]
    }
   ],
   "source": [
    "def removeDuplicateElement(arr, n) :\n",
    "    # write your code here \n",
    "    # Try to submit your code in O(n) Time complexity.\n",
    "\n",
    "    for i in range (0,n):\n",
    "        j = 0\n",
    "        while j < n:\n",
    "            if i != j and arr[i] == arr[j]:\n",
    "                break\n",
    "            j = j + 1\n",
    "        if j == n:\n",
    "            print(arr[i],end=\" \")\n",
    "\n",
    "# Example usage\n",
    "arr = [10, 20, 20, 30, 40, 50]\n",
    "n = len(arr)\n",
    "removeDuplicateElement(arr, n)"
   ]
  },
  {
   "cell_type": "code",
   "execution_count": null,
   "id": "511e289a-591f-4826-9da1-72a1c4bd28fc",
   "metadata": {},
   "outputs": [],
   "source": [
    "def findUnique(arr, n):\n",
    "\n",
    "    \"\"\"\n",
    "\n",
    "    Function to find the unique element in the given array.\n",
    "\n",
    "    Every other element appears twice, except one unique element.\n",
    "\n",
    "    \n",
    "\n",
    "    Args:\n",
    "\n",
    "    arr (list): The input array containing integers.\n",
    "\n",
    "    n (int): The size of the array.\n",
    "\n",
    "    \n",
    "\n",
    "    Returns:\n",
    "\n",
    "    int: The unique element that appears only once.\n",
    "\n",
    "    \"\"\"\n",
    "\n",
    "    \n",
    "\n",
    "    unique_element = 0  # Initialize a variable to store the unique element\n",
    "\n",
    "    \n",
    "\n",
    "    # Iterate through the array and XOR all elements\n",
    "\n",
    "    for num in arr:\n",
    "\n",
    "        unique_element ^= num  # XOR operation cancels out duplicate elements\n",
    "\n",
    "    \n",
    "\n",
    "    return unique_element  # Return the unique element"
   ]
  }
 ],
 "metadata": {
  "kernelspec": {
   "display_name": "Python 3 (ipykernel)",
   "language": "python",
   "name": "python3"
  },
  "language_info": {
   "codemirror_mode": {
    "name": "ipython",
    "version": 3
   },
   "file_extension": ".py",
   "mimetype": "text/x-python",
   "name": "python",
   "nbconvert_exporter": "python",
   "pygments_lexer": "ipython3",
   "version": "3.12.7"
  }
 },
 "nbformat": 4,
 "nbformat_minor": 5
}
