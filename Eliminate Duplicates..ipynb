class Node:
    def __init__(self, data):
        self.data = data
        self.next = None
'''
def removeDuplicates(head):
    if head is None:
        return None

    curr = head
    while curr.next:
        if curr.data == curr.next.data:
            # Duplicate found, skip next node
            curr.next = curr.next.next
        else:
            # Move to next distinct element
            curr = curr.next
    return head
'''

def removeduplicates(head):
    if head is None:
        return None

    curr = head
    while curr.next:
        if curr.data == curr.next.data:
            curr.next = curr.next.next
        else:
            curr = curr.next
    return head

def takeInput():
    inputList = list(map(int, input("Enter sorted list (-1 to stop): ").split()))
    head = None
    tail = None
    for data in inputList:
        if data == -1:
            break
        newNode = Node(data)
        if head is None:
            head = newNode
            tail = newNode
        else:
            tail.next = newNode
            tail = newNode
    return head

def printLL(head):
    while head:
        print(head.data, end=" -> ")
        head = head.next
    print("None")

# Run
head = takeInput()
head = removeDuplicates(head)
print("After removing duplicates:")
printLL(head)


output is : 
Enter sorted list (-1 to stop):  1 2 3 3 3 3 4 4 4 5 5 7 -1
After removing duplicates:
1 -> 2 -> 3 -> 4 -> 5 -> 7 -> None
