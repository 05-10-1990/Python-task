{
 "cells": [
  {
   "cell_type": "code",
   "execution_count": 7,
   "id": "17cf02d1-4687-48f9-937a-099d85b1efea",
   "metadata": {},
   "outputs": [
    {
     "name": "stdout",
     "output_type": "stream",
     "text": [
      "10 30 50 60 37 "
     ]
    }
   ],
   "source": [
    "def removeDuplicateElement(arr, n) :\n",
    "    # write your code here \n",
    "    # Try to submit your code in O(n) Time complexity.\n",
    "\n",
    "    for i in range (0,n):\n",
    "        j = 0\n",
    "        while j < n:\n",
    "            if i != j and arr[i] == arr[j]:\n",
    "                break\n",
    "            j = j + 1\n",
    "        if j == n:\n",
    "            print(arr[i], end=\" \")\n",
    "\n",
    "# Example usage\n",
    "arr = [10, 20, 20, 30, 40, 50, 40, 60, 70, 70, 37]\n",
    "n = len(arr)\n",
    "removeDuplicateElement(arr, n)"
   ]
  }
 ],
 "metadata": {
  "kernelspec": {
   "display_name": "Python 3 (ipykernel)",
   "language": "python",
   "name": "python3"
  },
  "language_info": {
   "codemirror_mode": {
    "name": "ipython",
    "version": 3
   },
   "file_extension": ".py",
   "mimetype": "text/x-python",
   "name": "python",
   "nbconvert_exporter": "python",
   "pygments_lexer": "ipython3",
   "version": "3.12.7"
  }
 },
 "nbformat": 4,
 "nbformat_minor": 5
}
