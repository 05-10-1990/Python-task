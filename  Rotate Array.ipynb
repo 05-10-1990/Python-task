{
 "cells": [
  {
   "cell_type": "markdown",
   "id": "2b6c6baa-4cb4-461d-9488-4ba411d9dc18",
   "metadata": {},
   "source": [
    "input \n",
    "1\n",
    "7\n",
    "1 2 3 4 5 6 7\n",
    "2\n",
    "output \n",
    "3 4 5 6 7 1 2"
   ]
  },
  {
   "cell_type": "code",
   "execution_count": 123,
   "id": "24ac3757-7fe4-4db3-bec7-2567324a5e68",
   "metadata": {},
   "outputs": [
    {
     "name": "stdin",
     "output_type": "stream",
     "text": [
      "Array Break of Index Element 6\n"
     ]
    },
    {
     "data": {
      "text/plain": [
       "[7, 1, 2, 3, 4, 5, 6]"
      ]
     },
     "execution_count": 123,
     "metadata": {},
     "output_type": "execute_result"
    }
   ],
   "source": [
    "def rotate (arr,n,d):\n",
    "    if n ==0 or n < d:\n",
    "        return\n",
    "    break_arr= []\n",
    "    for i in range(d):\n",
    "        break_arr.append(arr[i])\n",
    "\n",
    "    return arr[d:] + break_arr\n",
    "    \n",
    "arr = [1,2,3,4,5,6,7]\n",
    "n = len(arr)\n",
    "d = int(input(\"Array Break of Index Element\"))\n",
    "rotate (arr,n,d)"
   ]
  },
  {
   "cell_type": "code",
   "execution_count": 189,
   "id": "2d55c57d-7b3b-46e9-a4f4-943b284e5643",
   "metadata": {},
   "outputs": [
    {
     "name": "stdin",
     "output_type": "stream",
     "text": [
      "Array Break of Index Element 4\n"
     ]
    },
    {
     "name": "stdout",
     "output_type": "stream",
     "text": [
      "[12, 17, 1, 3, 6, 11]\n"
     ]
    }
   ],
   "source": [
    "def rotate (arr,n,d):\n",
    "    if n ==0 or d % n == 0:\n",
    "        return arr\n",
    "    d = d % n\n",
    "    arr = arr[d:] + arr[:d]\n",
    "    print(arr)\n",
    "arr = [1,3,6,11,12,17]\n",
    "n = len(arr)\n",
    "d = int(input(\"Array Break of Index Element\"))\n",
    "rotate (arr,n,d)"
   ]
  },
  {
   "cell_type": "code",
   "execution_count": 85,
   "id": "6f1a9ea0-c6cd-4001-b25e-890575adccfe",
   "metadata": {},
   "outputs": [
    {
     "name": "stdout",
     "output_type": "stream",
     "text": [
      "[3, 4, 5, 6, 7, 1, 2]\n"
     ]
    }
   ],
   "source": [
    "arr = [1,2,3,4,5,6,7]\n",
    "new_arr= []\n",
    "for i in range(2):\n",
    "    new_arr.append(arr[i])\n",
    "\n",
    "print(arr[2:] + new_arr)\n"
   ]
  },
  {
   "cell_type": "code",
   "execution_count": 149,
   "id": "c90c6d78-2562-48a3-9463-0c0c96bdc53d",
   "metadata": {},
   "outputs": [
    {
     "name": "stdout",
     "output_type": "stream",
     "text": [
      "1 2 3 4 5 6 7\n"
     ]
    }
   ],
   "source": [
    "arr = [1, 2, 3, 4, 5, 6, 7]\n",
    "print(*arr)"
   ]
  },
  {
   "cell_type": "code",
   "execution_count": 179,
   "id": "e60da0b7-1fd6-4708-a7f3-35f12d504024",
   "metadata": {},
   "outputs": [
    {
     "name": "stdout",
     "output_type": "stream",
     "text": [
      "1 2 3 4 5 6 7\n"
     ]
    }
   ],
   "source": [
    "# convert arr to string with white space\n",
    "arr = [1, 2, 3, 4, 5, 6, 7]\n",
    "print(\" \".join(map(str, arr[:])))"
   ]
  }
 ],
 "metadata": {
  "kernelspec": {
   "display_name": "Python 3 (ipykernel)",
   "language": "python",
   "name": "python3"
  },
  "language_info": {
   "codemirror_mode": {
    "name": "ipython",
    "version": 3
   },
   "file_extension": ".py",
   "mimetype": "text/x-python",
   "name": "python",
   "nbconvert_exporter": "python",
   "pygments_lexer": "ipython3",
   "version": "3.12.7"
  }
 },
 "nbformat": 4,
 "nbformat_minor": 5
}
