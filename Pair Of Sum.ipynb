{
 "cells": [
  {
   "cell_type": "code",
   "execution_count": 1,
   "id": "10360774-bff3-4ab3-ae28-77d51f13d2ae",
   "metadata": {},
   "outputs": [
    {
     "name": "stdin",
     "output_type": "stream",
     "text": [
      " 1\n",
      " 9\n",
      "  1 3 6 2 5 4 3 2 4\n",
      " 7\n"
     ]
    },
    {
     "name": "stdout",
     "output_type": "stream",
     "text": [
      "('Count is ', 7, 'and Pair is ', [(1, 6), (3, 4), (3, 4), (2, 5), (5, 2), (4, 3), (3, 4)])\n"
     ]
    }
   ],
   "source": [
    "#\n",
    "# First Method \n",
    "#\n",
    "def pairSum(arr,n,num):\n",
    "    count = 0\n",
    "    result = []\n",
    "    for i in range(0, n - 1):\n",
    "        for j in range(i + 1, n):\n",
    "            if arr[i] + arr[j] == num:\n",
    "                count += 1\n",
    "                result.append((arr[i], arr[j]))\n",
    "    return \"Count is \",count, \"and Pair is \",result\n",
    "    \n",
    "t = int(input())\n",
    "for i in range(t):\n",
    "    n = int(input())\n",
    "    if n != 0:\n",
    "        li = [int(x) for x in input().split()]\n",
    "        x = int(input())\n",
    "        print(pairSum(li,n,x))\n",
    "    else:\n",
    "        print(0)"
   ]
  },
  {
   "cell_type": "code",
   "execution_count": 3,
   "id": "0c2420c6-102c-438a-a6c6-e5a502de1042",
   "metadata": {},
   "outputs": [
    {
     "data": {
      "text/plain": [
       "7"
      ]
     },
     "execution_count": 3,
     "metadata": {},
     "output_type": "execute_result"
    }
   ],
   "source": [
    "#\n",
    "# Second Method \n",
    "#\n",
    "def pairSum(arr, n, num):\n",
    "    freq_map = {}  # Dictionary to store frequencies\n",
    "    count = 0  \n",
    "\n",
    "    for i in range(n):\n",
    "        complement = num - arr[i]\n",
    "        \n",
    "        # If complement exists in map, add its count to result\n",
    "        if complement in freq_map:\n",
    "            count += freq_map[complement]\n",
    "\n",
    "        # Update frequency of current element\n",
    "        freq_map[arr[i]] = freq_map.get(arr[i], 0) + 1\n",
    "\n",
    "    return count\n",
    "\n",
    "# Example usage\n",
    "arr = [1,3,6,2,5,4,3,2,4]  \n",
    "num = 7\n",
    "n = len(arr)  \n",
    "pairSum(arr, n, num)  # Output: 7"
   ]
  },
  {
   "cell_type": "code",
   "execution_count": 19,
   "id": "4d98e877-4a0d-4aba-850f-2400a82d6aa7",
   "metadata": {},
   "outputs": [
    {
     "data": {
      "text/plain": [
       "7"
      ]
     },
     "execution_count": 19,
     "metadata": {},
     "output_type": "execute_result"
    }
   ],
   "source": [
    "def PairSum(arr , n, num):\n",
    "    arr_list = {} # list\n",
    "    count = 0\n",
    "    for i in range(n):\n",
    "        complements = num - arr[i]\n",
    "        if complements in arr_list:\n",
    "            count += arr_list[complements]\n",
    "        arr_list[arr[i]] = arr_list.get(arr[i], 0) + 1\n",
    "    return count\n",
    "\n",
    "arr = [1,3,6,2,5,4,3,2,4] \n",
    "num = 7\n",
    "n = len(arr)  \n",
    "PairSum(arr, n, num)"
   ]
  },
  {
   "cell_type": "code",
   "execution_count": 7,
   "id": "c5c62983-d08c-422f-880d-296af8719972",
   "metadata": {},
   "outputs": [
    {
     "name": "stdout",
     "output_type": "stream",
     "text": [
      "Mustang\n"
     ]
    }
   ],
   "source": [
    "#\n",
    "# New Method is get\n",
    "# \n",
    "car = {\n",
    "  \"brand\": \"Ford\",\n",
    "  \"model\": \"Mustang\",\n",
    "  \"year\": 1964\n",
    "}\n",
    "\n",
    "x = car.get(\"model\")\n",
    "\n",
    "print(x)"
   ]
  },
  {
   "cell_type": "code",
   "execution_count": 9,
   "id": "d0ced060-3570-4aa0-a87a-747168c8631e",
   "metadata": {},
   "outputs": [
    {
     "name": "stdout",
     "output_type": "stream",
     "text": [
      "15000\n"
     ]
    }
   ],
   "source": [
    "car = {\n",
    "  \"brand\": \"Ford\",\n",
    "  \"model\": \"Mustang\",\n",
    "  \"year\": 1964\n",
    "}\n",
    "\n",
    "x = car.get(\"price\", 15000)\n",
    "\n",
    "print(x)"
   ]
  }
 ],
 "metadata": {
  "kernelspec": {
   "display_name": "Python 3 (ipykernel)",
   "language": "python",
   "name": "python3"
  },
  "language_info": {
   "codemirror_mode": {
    "name": "ipython",
    "version": 3
   },
   "file_extension": ".py",
   "mimetype": "text/x-python",
   "name": "python",
   "nbconvert_exporter": "python",
   "pygments_lexer": "ipython3",
   "version": "3.12.7"
  }
 },
 "nbformat": 4,
 "nbformat_minor": 5
}
