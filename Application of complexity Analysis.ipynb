{
 "cells": [
  {
   "cell_type": "code",
   "execution_count": 41,
   "id": "5f3768e8-dfd7-4973-9ce0-83cf7328c7a4",
   "metadata": {},
   "outputs": [
    {
     "name": "stdin",
     "output_type": "stream",
     "text": [
      "Enter Your Value of n:  8\n"
     ]
    },
    {
     "data": {
      "text/plain": [
       "256"
      ]
     },
     "execution_count": 41,
     "metadata": {},
     "output_type": "execute_result"
    }
   ],
   "source": [
    "def powerOf(n):\n",
    "    if n == 0 :\n",
    "        return 1\n",
    "    return 2 * powerOf(n-1)\n",
    "    \n",
    "n = int(input(\"Enter Your Value of n: \"))\n",
    "powerOf(n)"
   ]
  },
  {
   "cell_type": "markdown",
   "id": "a3e60197-2f00-4e53-84af-678709b590e8",
   "metadata": {},
   "source": [
    "3 * 3 * 3 * 4"
   ]
  },
  {
   "cell_type": "code",
   "execution_count": 45,
   "id": "f8f81853-3d32-4312-bed3-63b4c9a070a6",
   "metadata": {},
   "outputs": [
    {
     "name": "stdin",
     "output_type": "stream",
     "text": [
      "Enter Your Value of n:  456\n",
      "Enter Your Value of x:  456\n"
     ]
    },
    {
     "data": {
      "text/plain": [
       "3075871973802350122919772248486810453179882160061821378289466776658172317672698487579442469933152629766136423664245917259419103575968021888464541910796204383226791656378897055931168352559989435064585092293407089214792554892348840661429095905338070152326011251467896223008406422231207058844638419852610520628737186931434650773818539031181156578438078750050841787076204425803840951225637528623310286038386973455753908978877598542066376484065770489233740135205819512135091362102709355017899099432525753918081634325868448872689557443291437393241005058756685470354465922000288623367633026018971106832090191894178474800993921784022758665971949900165418092243094650288059416656148104436264537433344869835339521464108708465678845132027928400422737873563364973093125530472006948162902457640768740466182602428506153916927749487461840892352981296397508689052680004032270809872233823977879502295876063986004794369624190823191207494537902871526299752350004255190289786483430677256797243806410827410790893469450810184874334616630671899180803497908474400440365427363616862415161115493664955486110650283608244077355790040100591180407542116469464503987798572837426109262466148517559232300346029905673587076983060993219549101817856"
      ]
     },
     "execution_count": 45,
     "metadata": {},
     "output_type": "execute_result"
    }
   ],
   "source": [
    "def PowerOf(n,x):\n",
    "    if n == 0 and x == 0:\n",
    "        return 0;\n",
    "    return n ** x\n",
    "n = int(input(\"Enter Your Value of n: \"))\n",
    "x = int(input(\"Enter Your Value of x: \"))\n",
    "PowerOf(n,x)"
   ]
  },
  {
   "cell_type": "code",
   "execution_count": 49,
   "id": "7644d674-6af1-4c46-a261-89528a6360f8",
   "metadata": {},
   "outputs": [
    {
     "name": "stdin",
     "output_type": "stream",
     "text": [
      " 3 4\n"
     ]
    },
    {
     "data": {
      "text/plain": [
       "81"
      ]
     },
     "execution_count": 49,
     "metadata": {},
     "output_type": "execute_result"
    }
   ],
   "source": [
    "def Power(x,n):\n",
    "    if n == 0 and x == 0:\n",
    "        return 0;\n",
    "    return x ** n\n",
    "x,n=list(int(i) for i in input().strip().split(' '))\n",
    "Power(x,n)"
   ]
  },
  {
   "cell_type": "code",
   "execution_count": null,
   "id": "0e2377b3-5c79-43fc-8609-3ac6368fa77b",
   "metadata": {},
   "outputs": [],
   "source": [
    "''' Array of interaction '''"
   ]
  },
  {
   "cell_type": "code",
   "execution_count": null,
   "id": "2c68f84f-9911-484b-99d9-befc1e41b126",
   "metadata": {},
   "outputs": [],
   "source": [
    "def intersection(arr1, arr2, n, m) :\n",
    "\t"
   ]
  }
 ],
 "metadata": {
  "kernelspec": {
   "display_name": "Python 3 (ipykernel)",
   "language": "python",
   "name": "python3"
  },
  "language_info": {
   "codemirror_mode": {
    "name": "ipython",
    "version": 3
   },
   "file_extension": ".py",
   "mimetype": "text/x-python",
   "name": "python",
   "nbconvert_exporter": "python",
   "pygments_lexer": "ipython3",
   "version": "3.12.7"
  }
 },
 "nbformat": 4,
 "nbformat_minor": 5
}
