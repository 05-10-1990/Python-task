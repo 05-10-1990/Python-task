{
 "cells": [
  {
   "cell_type": "code",
   "execution_count": 37,
   "id": "17cf02d1-4687-48f9-937a-099d85b1efea",
   "metadata": {},
   "outputs": [
    {
     "name": "stdout",
     "output_type": "stream",
     "text": [
      "20 20 40 40 70 70 "
     ]
    }
   ],
   "source": [
    "def DuplicateNumber(arr, n) :\n",
    "    # write your code here \n",
    "    # Try to submit your code in O(n) Time complexity.\n",
    "\n",
    "    for i in range (0,n):\n",
    "        j = 0\n",
    "        while j < n:\n",
    "            if i != j and arr[i] == arr[j]:\n",
    "                print(arr[i],end=\" \")\n",
    "            j = j + 1\n",
    "\n",
    "# Example usage\n",
    "arr = [10, 20, 20, 30, 40, 50, 40, 60, 70, 70, 37]\n",
    "n = len(arr)\n",
    "DuplicateNumber(arr, n)"
   ]
  },
  {
   "cell_type": "code",
   "execution_count": 39,
   "id": "8d818506-5443-4a11-a370-ed0185dd2f9e",
   "metadata": {},
   "outputs": [
    {
     "name": "stdout",
     "output_type": "stream",
     "text": [
      "[20, 20, 30, 40, 50, 40, 60, 70, 70, 37]\n"
     ]
    }
   ],
   "source": [
    "arr = [10, 20, 20, 30, 40, 50, 40, 60, 70, 70, 37]\n",
    "print(arr[1:])"
   ]
  }
 ],
 "metadata": {
  "kernelspec": {
   "display_name": "Python 3 (ipykernel)",
   "language": "python",
   "name": "python3"
  },
  "language_info": {
   "codemirror_mode": {
    "name": "ipython",
    "version": 3
   },
   "file_extension": ".py",
   "mimetype": "text/x-python",
   "name": "python",
   "nbconvert_exporter": "python",
   "pygments_lexer": "ipython3",
   "version": "3.12.7"
  }
 },
 "nbformat": 4,
 "nbformat_minor": 5
}
