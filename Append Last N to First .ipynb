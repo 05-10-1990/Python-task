class Node:
    def __init__(self, data):
        self.data = data
        self.next = None

def printLL(head):
    while head:
        print(head.data, end=" -> ")
        head = head.next
    print("None")

def appendLastNToFirst(head, n):
    if head is None or n == 0:
        return head

    # Step 1: Find the length
    length = 0
    temp = head
    while temp:
        temp = temp.next
        length += 1

    # Edge case: n >= length
    if n >= length:
        return head

    # Step 2: Go to (length - n - 1)th node
    prev = None
    curr = head
    for _ in range(length - n):
        prev = curr
        curr = curr.next

    # Step 3: Rewire pointers
    newHead = curr
    prev.next = None

    tail = newHead
    while tail.next:
        tail = tail.next
    tail.next = head

    return newHead

def takeInput():
    inputList = [int(ele) for ele in input("Enter nodes (-1 to end): ").split()]
    head = None
    tail = None
    for data in inputList:
        if data == -1:
            break
        newNode = Node(data)
        if head is None:
            head = newNode
            tail = newNode
        else:
            tail.next = newNode
            tail = newNode
    return head


head = takeInput()
n = int(input("Enter N to move last N to front: "))
head = appendLastNToFirst(head, n)
printLL(head)

output
Enter nodes (-1 to end):  10 20 30 40 50 60 -1
Enter N to move last N to front:  5
20 -> 30 -> 40 -> 50 -> 60 -> 10 -> None
