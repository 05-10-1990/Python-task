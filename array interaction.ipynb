{
 "cells": [
  {
   "cell_type": "code",
   "execution_count": 49,
   "id": "c0323738-a612-455e-9727-6b7e0658c7a9",
   "metadata": {},
   "outputs": [],
   "source": [
    "def intersection(arr1, arr2, n, m) :\n",
    "    arr1.sort()\n",
    "    arr2.sort()\n",
    "\n",
    "    i = 0\n",
    "    j = 0\n",
    "    while i < n and j < m:\n",
    "        if arr1[i] == arr2[j]:\n",
    "            print(arr1[i],end=\" \")\n",
    "            i += 1\n",
    "            j += 1\n",
    "        elif arr1[i] < arr2[j]:\n",
    "            i += 1\n",
    "        else:\n",
    "            j += 1\n",
    "\n"
   ]
  },
  {
   "cell_type": "code",
   "execution_count": 75,
   "id": "c55d76b5-92cf-4e14-bcef-683b2c5d7d02",
   "metadata": {},
   "outputs": [
    {
     "name": "stdout",
     "output_type": "stream",
     "text": [
      "[9, 11, 26, 28]\n"
     ]
    }
   ],
   "source": [
    "# Second Method\n",
    "def intersection(lst1, lst2): \n",
    "    lst3 = [value for value in lst1 if value in lst2] \n",
    "    return lst3 \n",
    "# Driver Code \n",
    "lst1 = [4, 9, 1, 17, 11, 26, 28, 54, 69] \n",
    "lst2 = [9, 9, 74, 21, 45, 11, 63, 28, 26] \n",
    "print(intersection(lst1, lst2))"
   ]
  },
  {
   "cell_type": "code",
   "execution_count": 107,
   "id": "30e6a1a5-f879-4cfe-8efd-dc37e3500fad",
   "metadata": {},
   "outputs": [
    {
     "name": "stdin",
     "output_type": "stream",
     "text": [
      " 1 4 9 3 2\n"
     ]
    },
    {
     "name": "stdout",
     "output_type": "stream",
     "text": [
      "2\n"
     ]
    }
   ],
   "source": [
    "# array Equilibrium Index Method (prefix and postfix are equal in index)\n",
    "def arrayEquilibriumIndex(arr, n):\n",
    "    leftsum = 0\n",
    "    rightsum = 0\n",
    "    for i in range(n):\n",
    "        rightsum += arr[i]\n",
    "    for i in range(n):\n",
    "        rightsum -= arr[i]\n",
    "        if leftsum == rightsum:\n",
    "            return i\n",
    "        leftsum += arr[i]\n",
    "    return -1\n",
    "\n",
    "arr=list(int(i) for i in input().strip().split(' '))\n",
    "print(arrayEquilibriumIndex(arr, n))"
   ]
  },
  {
   "cell_type": "code",
   "execution_count": 5,
   "id": "03e86ab2-5345-4412-b3f1-2c8e99f72b52",
   "metadata": {},
   "outputs": [
    {
     "name": "stdin",
     "output_type": "stream",
     "text": [
      " 1\n",
      " 2 3 1 6 3 6 2\n"
     ]
    },
    {
     "name": "stdout",
     "output_type": "stream",
     "text": [
      "1\n"
     ]
    }
   ],
   "source": [
    "## Find The Unique Element\n",
    "# First Method\n",
    "def findUnique(arr):\n",
    "    result=0\n",
    "    for num in arr:\n",
    "        result ^=num\n",
    "    return result\n",
    "    \n",
    "t = int(input())\n",
    "for i in range(t):\n",
    "    arr=list(int(i) for i in input().strip().split(' '))\n",
    "    print(findUnique(arr))"
   ]
  },
  {
   "cell_type": "code",
   "execution_count": 9,
   "id": "0d3ec271-f21d-4e8a-beaa-ee2ed9eefaf9",
   "metadata": {},
   "outputs": [
    {
     "name": "stdin",
     "output_type": "stream",
     "text": [
      " 2\n",
      " 1 3\n"
     ]
    },
    {
     "ename": "ValueError",
     "evalue": "invalid literal for int() with base 10: '1 3'",
     "output_type": "error",
     "traceback": [
      "\u001b[1;31m---------------------------------------------------------------------------\u001b[0m",
      "\u001b[1;31mValueError\u001b[0m                                Traceback (most recent call last)",
      "Cell \u001b[1;32mIn[9], line 15\u001b[0m\n\u001b[0;32m     13\u001b[0m t \u001b[38;5;241m=\u001b[39m \u001b[38;5;28mint\u001b[39m(\u001b[38;5;28minput\u001b[39m())\n\u001b[0;32m     14\u001b[0m \u001b[38;5;28;01mfor\u001b[39;00m i \u001b[38;5;129;01min\u001b[39;00m \u001b[38;5;28mrange\u001b[39m(t):\n\u001b[1;32m---> 15\u001b[0m     n \u001b[38;5;241m=\u001b[39m \u001b[38;5;28mint\u001b[39m(\u001b[38;5;28minput\u001b[39m())\n\u001b[0;32m     16\u001b[0m     arr \u001b[38;5;241m=\u001b[39m [\u001b[38;5;28mint\u001b[39m(x) \u001b[38;5;28;01mfor\u001b[39;00m x \u001b[38;5;129;01min\u001b[39;00m \u001b[38;5;28minput\u001b[39m()\u001b[38;5;241m.\u001b[39msplit()]\n\u001b[0;32m     17\u001b[0m     findUnique(arr,n)\n",
      "\u001b[1;31mValueError\u001b[0m: invalid literal for int() with base 10: '1 3'"
     ]
    }
   ],
   "source": [
    "def findUnique(arr, n) :\n",
    "    # write your code here \n",
    "    # Try to submit your code in O(n) Time complexity.\n",
    "\n",
    "    for i in range (0,n):\n",
    "        j = 0\n",
    "        while j < n:\n",
    "            if i != j and arr[i] == arr[j]:\n",
    "                break\n",
    "            j = j + 1\n",
    "        if j == n:\n",
    "            print(arr[i])\n",
    "t = int(input())\n",
    "for i in range(t):\n",
    "    n = int(input())\n",
    "    arr = [int(x) for x in input().split()]\n",
    "    findUnique(arr,n)"
   ]
  },
  {
   "cell_type": "code",
   "execution_count": 29,
   "id": "af04119b-8156-41f8-90cb-0647a1bd5b90",
   "metadata": {},
   "outputs": [
    {
     "name": "stdout",
     "output_type": "stream",
     "text": [
      "Array: [3, 4, 5, 6]\n"
     ]
    }
   ],
   "source": [
    "# first Way\n",
    "input_values = \"3 4 5 6\"\n",
    "\n",
    "# Convert to an array (list of integers)\n",
    "arr = list(map(int, input_values.split()))\n",
    "\n",
    "# Print the array\n",
    "print(\"Array:\", arr)"
   ]
  },
  {
   "cell_type": "code",
   "execution_count": 47,
   "id": "b41df539-3f0a-4db8-b763-973434c9e50b",
   "metadata": {},
   "outputs": [
    {
     "name": "stdin",
     "output_type": "stream",
     "text": [
      " 1 2 3 4\n"
     ]
    },
    {
     "name": "stdout",
     "output_type": "stream",
     "text": [
      "Array: [1, 2, 3, 4]\n"
     ]
    }
   ],
   "source": [
    "# Get list input from user\n",
    "# # second Way\n",
    "arr = list(map(int, input().split()))\n",
    "\n",
    "# Print the list\n",
    "print(\"Array:\", arr)"
   ]
  },
  {
   "cell_type": "code",
   "execution_count": null,
   "id": "92171fbf-1e6e-4ae6-acd4-99f15980f9f5",
   "metadata": {},
   "outputs": [],
   "source": [
    "# Check number of array"
   ]
  },
  {
   "cell_type": "code",
   "execution_count": 81,
   "id": "c28e3b10-474e-4ee8-8313-5feff883aee9",
   "metadata": {},
   "outputs": [
    {
     "name": "stdin",
     "output_type": "stream",
     "text": [
      " 3\n",
      " 1 2 3 4\n",
      " 3\n"
     ]
    },
    {
     "name": "stdout",
     "output_type": "stream",
     "text": [
      "true\n"
     ]
    }
   ],
   "source": [
    "# Check Number of recursive Problem\n",
    "def checkNumber(arr, x):\n",
    "    lenght = len(arr)\n",
    "    if lenght == 0:\n",
    "        return False\n",
    "    elif arr[0] == x:\n",
    "        return True\n",
    "    else:\n",
    "        smallList = arr[1:]\n",
    "        Checklist = checkNumber(smallList, x)\n",
    "        return Checklist\n",
    "\n",
    "n=int(input())\n",
    "arr=list(int(i) for i in input().strip().split(' '))\n",
    "x=int(input())\n",
    "if checkNumber(arr, x):\n",
    "    print('true')\n",
    "else:\n",
    "    print('false')"
   ]
  },
  {
   "cell_type": "code",
   "execution_count": 85,
   "id": "b1bd8727-f089-40fa-9610-96f741725819",
   "metadata": {},
   "outputs": [
    {
     "name": "stdin",
     "output_type": "stream",
     "text": [
      " 3\n",
      " 1 2 3 4 5 6 7\n"
     ]
    },
    {
     "name": "stdout",
     "output_type": "stream",
     "text": [
      "7\n"
     ]
    }
   ],
   "source": [
    "n = int(input())  # Read an integer (not actually used in the list)\n",
    "input_list = list(int(i) for i in input().strip().split())  # Convert input numbers into a list of integers\n",
    "print(len(input_list)) "
   ]
  }
 ],
 "metadata": {
  "kernelspec": {
   "display_name": "Python 3 (ipykernel)",
   "language": "python",
   "name": "python3"
  },
  "language_info": {
   "codemirror_mode": {
    "name": "ipython",
    "version": 3
   },
   "file_extension": ".py",
   "mimetype": "text/x-python",
   "name": "python",
   "nbconvert_exporter": "python",
   "pygments_lexer": "ipython3",
   "version": "3.12.7"
  }
 },
 "nbformat": 4,
 "nbformat_minor": 5
}
